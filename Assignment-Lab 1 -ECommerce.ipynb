{
 "cells": [
  {
   "cell_type": "markdown",
   "id": "2c8f47d3",
   "metadata": {
    "id": "2c8f47d3"
   },
   "source": [
    "# Lab Session"
   ]
  },
  {
   "cell_type": "markdown",
   "id": "f637aba6",
   "metadata": {
    "id": "f637aba6"
   },
   "source": [
    "## <font color='blue'> Table Of Contents </font>\n",
    "- Problem Statement \n",
    "- Load required libraries\n",
    "- Connect to DB using mysql-connector-python package\n",
    "- Create database named `e_commerce`\n",
    "- Create tables and insert data into tables as specified in the question\n",
    "- Read all the questions and write sql queries to meet the objective "
   ]
  },
  {
   "cell_type": "markdown",
   "id": "1073fc90",
   "metadata": {
    "id": "1073fc90"
   },
   "source": [
    "## <font color='blue'> Problem Statement </font>\n",
    "###  An E-commerce website manages its data in the form of various tables.\n",
    "You need to create a Database called `e_commerce` and various tables in it. The tables needed and attributes which need to be in every table are given before hand. All you have to do is create tables with data in it and answer some of the questions that follows."
   ]
  },
  {
   "cell_type": "markdown",
   "id": "48787355",
   "metadata": {
    "id": "48787355"
   },
   "source": [
    "### e_commerce Schema:"
   ]
  },
  {
   "cell_type": "raw",
   "id": "da743d75",
   "metadata": {
    "id": "78938fbc"
   },
   "source": []
  },
  {
   "cell_type": "markdown",
   "id": "d9abe6c7",
   "metadata": {
    "id": "d9abe6c7"
   },
   "source": [
    "### Load Required Libraries"
   ]
  },
  {
   "cell_type": "code",
   "execution_count": 1,
   "id": "0178d08e",
   "metadata": {
    "id": "0178d08e"
   },
   "outputs": [],
   "source": [
    "import mysql.connector\n",
    "import pandas as pd"
   ]
  },
  {
   "cell_type": "markdown",
   "id": "d7d7fd5c",
   "metadata": {
    "id": "d7d7fd5c"
   },
   "source": [
    "### Connect to DB using Mysql-connector-python package"
   ]
  },
  {
   "cell_type": "code",
   "execution_count": 5,
   "id": "ef7bef72",
   "metadata": {
    "id": "ef7bef72"
   },
   "outputs": [],
   "source": [
    "connection = mysql.connector.connect(host=\"localhost\",user=\"root\",passwd=\"vk1997\")\n",
    "\n",
    "cursorObject = connection.cursor()\n"
   ]
  },
  {
   "cell_type": "markdown",
   "id": "9d55e510",
   "metadata": {
    "id": "9d55e510"
   },
   "source": [
    "### You are required to create a database named 'e_commerce'"
   ]
  },
  {
   "cell_type": "code",
   "execution_count": 6,
   "id": "42a154f2",
   "metadata": {
    "id": "42a154f2"
   },
   "outputs": [],
   "source": [
    "cursorObject.execute(\"create database e_commerce\")"
   ]
  },
  {
   "cell_type": "markdown",
   "id": "480dc986",
   "metadata": {
    "id": "480dc986"
   },
   "source": [
    "### Q1. Create tables for supplier, customer, category, product, productDetails, order, rating to store the data for the E-commerce with the schema definition given below.\n",
    "\n",
    "\n",
    "- **`supplier`**(SUPP_ID int primary key, SUPP_NAME varchar(50), SUPP_CITY varchar(50), SUPP_PHONE varchar(10))\n",
    "\n",
    "\n",
    "- **`customer`** (CUS_ID INT NOT NULL, CUS_NAME VARCHAR(20) NULL DEFAULT NULL, CUS_PHONE VARCHAR(10), CUS_CITY varchar(30) ,CUS_GENDER CHAR,PRIMARY KEY (CUS_ID))\n",
    "\n",
    "\n",
    "- **`category`** (CAT_ID INT NOT NULL, CAT_NAME VARCHAR(20) NULL DEFAULT NULL,PRIMARY KEY (CAT_ID))\n",
    "\n",
    "\n",
    "- **`product`** (PRO_ID INT NOT NULL, PRO_NAME VARCHAR(20) NULL DEFAULT NULL, PRO_DESC VARCHAR(60) NULL DEFAULT NULL, CAT_ID INT NOT NULL,PRIMARY KEY (PRO_ID),FOREIGN KEY (CAT_ID) REFERENCES CATEGORY (CAT_ID))\n",
    "\n",
    "\n",
    "- **`product_details`** (PROD_ID INT NOT NULL, PRO_ID INT NOT NULL, SUPP_ID INT NOT NULL, PROD_PRICE INT NOT NULL,\n",
    "  PRIMARY KEY (PROD_ID),FOREIGN KEY (PRO_ID) REFERENCES PRODUCT (PRO_ID), FOREIGN KEY (SUPP_ID) REFERENCES SUPPLIER(SUPP_ID))\n",
    "  \n",
    "  \n",
    "- **`order`** (ORD_ID INT NOT NULL, ORD_AMOUNT INT NOT NULL, ORD_DATE DATE, CUS_ID INT NOT NULL, PROD_ID INT NOT NULL,PRIMARY KEY (ORD_ID),FOREIGN KEY (CUS_ID) REFERENCES CUSTOMER(CUS_ID),FOREIGN KEY (PROD_ID) REFERENCES PRODUCT_DETAILS(PROD_ID))\n",
    "\n",
    "\n",
    "- **`rating`** (RAT_ID INT NOT NULL, CUS_ID INT NOT NULL, SUPP_ID INT NOT NULL, RAT_RATSTARS INT NOT NULL,PRIMARY KEY (RAT_ID),FOREIGN KEY (SUPP_ID) REFERENCES SUPPLIER (SUPP_ID),FOREIGN KEY (CUS_ID) REFERENCES CUSTOMER(CUS_ID))"
   ]
  },
  {
   "cell_type": "code",
   "execution_count": 7,
   "id": "967b718f",
   "metadata": {
    "id": "967b718f"
   },
   "outputs": [],
   "source": [
    "connection.close()"
   ]
  },
  {
   "cell_type": "code",
   "execution_count": 9,
   "id": "e7d25b12",
   "metadata": {},
   "outputs": [],
   "source": [
    "connection = mysql.connector.connect(host=\"localhost\",user=\"root\",passwd=\"Vk1997\",database=\"e_commerce\")\n",
    "cursorObject = connection.cursor()"
   ]
  },
  {
   "cell_type": "code",
   "execution_count": 11,
   "id": "70e7a9ef",
   "metadata": {},
   "outputs": [],
   "source": [
    "#Q1. Create tables for supplier, customer, category, product, productDetails, order, rating to store the data for the E-commerce with the schema definition given below.\n",
    "\n",
    "\n",
    "#Ans1.\n",
    "table_qry=\"\"\"\n",
    "    create table supplier(SUPP_ID int primary key, SUPP_NAME varchar(50), SUPP_CITY varchar(50), SUPP_PHONE varchar(10));\n",
    "    \n",
    "    create table customer(CUS_ID INT NOT NULL, CUS_NAME VARCHAR(20) NULL DEFAULT NULL, CUS_PHONE VARCHAR(10), \n",
    "    CUS_CITY varchar(30) ,CUS_GENDER CHAR,PRIMARY KEY (CUS_ID));\n",
    "    \n",
    "    create table category(CAT_ID INT NOT NULL, CAT_NAME VARCHAR(20) NULL DEFAULT NULL,PRIMARY KEY (CAT_ID));\n",
    "    \n",
    "    create table product(PRO_ID INT NOT NULL, PRO_NAME VARCHAR(20) NULL DEFAULT NULL, PRO_DESC VARCHAR(60) NULL DEFAULT NULL, \n",
    "    CAT_ID INT NOT NULL,PRIMARY KEY (PRO_ID),FOREIGN KEY (CAT_ID) REFERENCES CATEGORY (CAT_ID));\n",
    "    \n",
    "    create table product_details(PROD_ID INT NOT NULL, PRO_ID INT NOT NULL, SUPP_ID INT NOT NULL, PROD_PRICE INT NOT NULL, \n",
    "    PRIMARY KEY (PROD_ID),FOREIGN KEY (PRO_ID) REFERENCES PRODUCT (PRO_ID), FOREIGN KEY (SUPP_ID) REFERENCES SUPPLIER(SUPP_ID));\n",
    "    \n",
    "    create table e_commerce.order(ORD_ID INT NOT NULL, ORD_AMOUNT INT NOT NULL, ORD_DATE DATE, CUS_ID INT NOT NULL, \n",
    "    PROD_ID INT NOT NULL,PRIMARY KEY (ORD_ID),FOREIGN KEY (CUS_ID) REFERENCES CUSTOMER(CUS_ID),\n",
    "    FOREIGN KEY (PROD_ID) REFERENCES PRODUCT_DETAILS(PROD_ID));\n",
    "    \n",
    "    create table rating (RAT_ID INT NOT NULL, CUS_ID INT NOT NULL, SUPP_ID INT NOT NULL, RAT_RATSTARS INT NOT NULL,\n",
    "    PRIMARY KEY (RAT_ID),FOREIGN KEY (SUPP_ID) REFERENCES SUPPLIER (SUPP_ID),FOREIGN KEY (CUS_ID) REFERENCES CUSTOMER(CUS_ID));\n",
    "\n",
    "\"\"\"\n",
    "\n",
    "cursorObject.execute(table_qry)"
   ]
  },
  {
   "cell_type": "code",
   "execution_count": 12,
   "id": "c73b649b",
   "metadata": {},
   "outputs": [],
   "source": [
    "connection.close()"
   ]
  },
  {
   "cell_type": "code",
   "execution_count": 13,
   "id": "aac05cf8",
   "metadata": {},
   "outputs": [],
   "source": [
    "connection = mysql.connector.connect(host=\"localhost\",user=\"root\",passwd=\"Vk1997\",database=\"e_commerce\")\n",
    "cursorObject = connection.cursor()"
   ]
  },
  {
   "cell_type": "markdown",
   "id": "1f653731",
   "metadata": {
    "id": "1f653731"
   },
   "source": [
    "# Q2. Insert the following data in the table created above\n",
    "#### `Note:` If you are getting any error while inserting the data into tables, Kindly close the connection and reconnect\n",
    "\n",
    "#### Table:  supplier\n",
    "| SUPP_ID | SUPP_Nimport mysql.connector\n",
    "import pandas as pdAME | SUPP_CITY | SUPP_PHONE |\n",
    "| --- | --- | --- | --- | \n",
    "| 1 | Rajesh Retails | Delhi | 1234567890 |\n",
    "| 2 | Appario Ltd. | Mumbai | 258963147032 | \n",
    "| 3 | Knome products | Bangalore | 9785462315 |\n",
    "| 4 | Bansal Retails | Kochi | 8975463285 |\n",
    "| 5 | Mittal Ltd. | Lucknow | 7898456532 |"
   ]
  },
  {
   "cell_type": "code",
   "execution_count": 15,
   "id": "f6dddd07",
   "metadata": {
    "id": "f6dddd07"
   },
   "outputs": [],
   "source": [
    "#Q2. Insert the following data in the table created above\n",
    "\n",
    "#Ans2. \n",
    "insert_supplier=\"\"\"\n",
    "    insert into supplier(supp_id, supp_name, supp_city, supp_phone) values (%s,%s,%s,%s)\n",
    "\"\"\"\n",
    "val = [(1,'Rajesh Retails','Delhi','1234567890'),\n",
    "        (2,'Appario Ltd.','Mumbai','2589631470'),\n",
    "        (3,'Knome products','Bangalore','9785462315'),\n",
    "       (4, 'Bansal Retails','Kochi','8975463285'),\n",
    "       (5,'Mittal Ltd.','Lucknow','7898456532')\n",
    "]\n",
    "\n",
    "cursorObject.executemany(insert_supplier,val)\n",
    "connection.commit()"
   ]
  },
  {
   "cell_type": "markdown",
   "id": "e8a070a6",
   "metadata": {
    "id": "e8a070a6"
   },
   "source": [
    "#### Table:  customer\n",
    "| CUS_ID | CUS_NAME | SUPP_PHONE | CUS_CITY | CUS_GENDER\n",
    "| --- | --- | --- | --- | --- |\n",
    "| 1 | AAKASH | 9999999999 | DELHI | M |\n",
    "| 2 | AMAN | 9785463215 | NOIDA | M |\n",
    "| 3 | NEHA | 9999999998 | MUMBAI | F |\n",
    "| 4 | MEGHA | 9994562399 | KOLKATA | F |\n",
    "| 5 | PULKIT | 7895999999 | LUCKNOW | M |"
   ]
  },
  {
   "cell_type": "code",
   "execution_count": 17,
   "id": "15a4ee87",
   "metadata": {
    "id": "15a4ee87"
   },
   "outputs": [],
   "source": [
    "# insert into \"customer\" table\n",
    "insert_customer=\"\"\"\n",
    "    insert into customer(CUS_ID, CUS_NAME, CUS_PHONE, CUS_CITY, CUS_GENDER)\n",
    "    values(%s,%s,%s,%s,%s)\n",
    "\"\"\"\n",
    "val=[\n",
    "    (1,'AAKASH','9999999999','DELHI','M'),\n",
    "    (2,'AMAN','9785463215','NOIDA','M'),\n",
    "    (3,'NEHA','9999999998','MUMBAI','F'),\n",
    "    (4,'MEGHA','9994562399','KOLKATA','F'),\n",
    "    (5,'PULKIT','7895999999','LUCKNOW','M')\n",
    "]\n",
    "\n",
    "cursorObject.executemany(insert_customer,val)\n",
    "connection.commit()"
   ]
  },
  {
   "cell_type": "markdown",
   "id": "b68bfbc2",
   "metadata": {
    "id": "b68bfbc2"
   },
   "source": [
    "#### Table:  category\n",
    "| CAT_ID | CAT_NAME | \n",
    "| --- | --- |  \n",
    "| 1 | BOOKS |\n",
    "| 2 | GAMES |  \n",
    "| 3 | GROCERIES | \n",
    "| 4 | ELECTRONICS | \n",
    "| 5 | CLOTHES | "
   ]
  },
  {
   "cell_type": "code",
   "execution_count": 19,
   "id": "05a00abc",
   "metadata": {
    "id": "05a00abc"
   },
   "outputs": [],
   "source": [
    "# insert into \"categoty\" table\n",
    "insert_category=\"\"\"\n",
    "    insert into category(CAT_ID,CAT_NAME)\n",
    "    values(%s,%s)\n",
    "\"\"\"\n",
    "val=[\n",
    "    (1,'BOOKS'),\n",
    "    (2,'GAMES'),\n",
    "    (3,'GROCERIES'),\n",
    "    (4,'ELECTRONICS'),\n",
    "    (5,'CLOTHES')\n",
    "]\n",
    "cursorObject.executemany(insert_category,val)\n",
    "connection.commit()"
   ]
  },
  {
   "cell_type": "markdown",
   "id": "eb3bc592",
   "metadata": {
    "id": "eb3bc592"
   },
   "source": [
    "#### Table:  product\n",
    "| PRO_ID | PRO_NAME | PRO_DESC | CAT_ID |\n",
    "| --- | --- | --- | --- | \n",
    "| 1 | GTA V | DFJDJFDJFDJFDJFJF | 2 |\n",
    "| 2 | TSHIRT | DFDFJDFJDKFD | 5 | \n",
    "| 3 | ROG LAPTOP | DFNTTNTNTERND | 4 |\n",
    "| 4 | OATS | REURENTBTOTH | 3 |\n",
    "| 5 | HARRY POTTER | NBEMCTHTJTH | 1 |\n"
   ]
  },
  {
   "cell_type": "code",
   "execution_count": 20,
   "id": "cdfbdfad",
   "metadata": {
    "id": "cdfbdfad"
   },
   "outputs": [],
   "source": [
    "# insert into \"product\" table\n",
    "insert_product=\"\"\"\n",
    "    insert into product(PRO_ID,PRO_NAME,PRO_DESC,CAT_ID) \n",
    "    values(%s,%s,%s,%s)\n",
    "    \n",
    "\"\"\"\n",
    "val=[\n",
    "        (1,'GTA V','DFJDJFDJFDJFDJFJF',2),\n",
    "    (2,'TSHIRT','DFDFJDFJDKFD',5),\n",
    "    (3,'ROG LAPTOP','DFNTTNTNTERND',4),\n",
    "    (4,'OATS','REURENTBTOTH',3),\n",
    "    (5,'HARRY POTTER','NBEMCTHTJTH',1)\n",
    "]\n",
    "cursorObject.executemany(insert_product,val)\n",
    "connection.commit()"
   ]
  },
  {
   "cell_type": "markdown",
   "id": "cfa8a47d",
   "metadata": {
    "id": "cfa8a47d"
   },
   "source": [
    "#### Table:  product_details\n",
    "| PROD_ID | PRO_ID | SUPP_ID | PROD_PRICE |\n",
    "| --- | --- | --- | --- | \n",
    "| 1 | 1 | 2 | 1500 |\n",
    "| 2 | 3 | 5 | 30000 | \n",
    "| 3 | 5 | 1 | 3000 |\n",
    "| 4 | 2 | 3 | 2500 |\n",
    "| 5 | 4 | 1 | 1000 |"
   ]
  },
  {
   "cell_type": "code",
   "execution_count": 21,
   "id": "c18ea964",
   "metadata": {
    "id": "c18ea964"
   },
   "outputs": [],
   "source": [
    "# insert into \"product_details\" table\n",
    "insert_product_details=\"\"\"\n",
    "    insert into product_details(PROD_ID,PRO_ID,SUPP_ID,PROD_PRICE)\n",
    "    values(%s,%s,%s,%s)\n",
    "\"\"\"\n",
    "val=[\n",
    "    (1,1,2,1500),\n",
    "    (2,3,5,30000),\n",
    "    (3,5,1,3000),\n",
    "    (4,2,3,2500),\n",
    "    (5,4,1,1000)\n",
    "]\n",
    "cursorObject.executemany(insert_product_details,val)\n",
    "connection.commit()"
   ]
  },
  {
   "cell_type": "markdown",
   "id": "1df49086",
   "metadata": {
    "id": "1df49086"
   },
   "source": [
    "#### Table:  orders\n",
    "| ORD_ID | ORD_AMOUNT | ORD_DATE | CUS_ID | PROD_ID\n",
    "| --- | --- | --- | --- | --- |\n",
    "| 20 | 1500 | 2021-10-12 | 3 | 5 |\n",
    "| 25 | 30500 | 2021-09-16 | 5 | 2 |\n",
    "| 26 | 2000 | 2021-10-05 | 1 | 1 |\n",
    "| 30 | 3500 | 2021-08-16 | 4 | 3 |\n",
    "| 50 | 2000 | 2021-10-06 | 2 | 1 |"
   ]
  },
  {
   "cell_type": "code",
   "execution_count": 35,
   "id": "0d97dc92",
   "metadata": {
    "id": "0d97dc92"
   },
   "outputs": [],
   "source": [
    "# insert into \"orders\" table\n",
    "insert_orders=\"\"\"\n",
    "    insert into order(ORD_ID,ORD_AMOUNT,ORD_DATE,CUST_ID,PROD_ID)\n",
    "    values(%s,%s,%s,%s,%s)\n",
    "\"\"\"\n",
    "val=[\n",
    "    (20,1500,\"2021-10-12\",3,5),\n",
    "    (25,30500,\"2021-09-16\",5,2),\n",
    "    (26,2000,\"2021-10-05\",1,1),\n",
    "    (30,3500,\"2021-08-16\",4,3),\n",
    "    (50,2000,\"2021-10-06\",2,1)\n",
    "]\n",
    "cursorObject.executemany(insert_orders,val)\n",
    "connection.commit()"
   ]
  },
  {
   "cell_type": "markdown",
   "id": "75b8ce5f",
   "metadata": {
    "id": "75b8ce5f"
   },
   "source": [
    "#### Table: rating\n",
    "| RAT_ID | CUS_ID | SUPP_ID | RAT_RATSTARS |\n",
    "| --- | --- | --- | --- | \n",
    "| 1 | 2 | 2 | 4 |\n",
    "| 2 | 3 | 4 | 3 | \n",
    "| 3 | 5 | 1 | 5 |\n",
    "| 4 | 1 | 3 | 2 |\n",
    "| 5 | 4 | 5 | 4 |"
   ]
  },
  {
   "cell_type": "code",
   "execution_count": 33,
   "id": "6d5f1e18",
   "metadata": {
    "id": "6d5f1e18"
   },
   "outputs": [],
   "source": [
    "# insert into \"rating\" table\n",
    "insert_rating=\"\"\"\n",
    "insert into rating(RAT_ID, CUS_ID, SUPP_ID, RAT_RATSTARS) values(%s,%s,%s,%s)\n",
    "\"\"\"\n",
    "val=[\n",
    "    ( 1,2,2,4),\n",
    "    (2,3,4,3),\n",
    "    (3, 5, 1, 5),\n",
    "    (4, 1, 3, 2),\n",
    "    (5, 4, 5, 4)\n",
    "]\n",
    "\n",
    "cursorObject.executemany(insert_rating,val)\n",
    "connection.commit()"
   ]
  },
  {
   "cell_type": "code",
   "execution_count": 47,
   "id": "f9bd067e",
   "metadata": {},
   "outputs": [],
   "source": [
    "def select_records(table):\n",
    "    qry=\"\"\"select * from \"\"\" + table\n",
    "    print(qry)\n",
    "    cursorObject.execute(qry)\n",
    "    output=cursorObject.fetchall()\n",
    "    print(output)\n",
    "    output_df=pd.DataFrame(output)\n",
    "    print(output_df)"
   ]
  },
  {
   "cell_type": "code",
   "execution_count": 48,
   "id": "6880335c",
   "metadata": {},
   "outputs": [
    {
     "name": "stdout",
     "output_type": "stream",
     "text": [
      "select * from supplier\n",
      "[(1, 'Rajesh Retails', 'Delhi', '1234567890'), (2, 'Appario Ltd.', 'Mumbai', '2589631470'), (3, 'Knome products', 'Bangalore', '9785462315'), (4, 'Bansal Retails', 'Kochi', '8975463285'), (5, 'Mittal Ltd.', 'Lucknow', '7898456532')]\n",
      "   0               1          2           3\n",
      "0  1  Rajesh Retails      Delhi  1234567890\n",
      "1  2    Appario Ltd.     Mumbai  2589631470\n",
      "2  3  Knome products  Bangalore  9785462315\n",
      "3  4  Bansal Retails      Kochi  8975463285\n",
      "4  5     Mittal Ltd.    Lucknow  7898456532\n"
     ]
    }
   ],
   "source": [
    "select_records(\"supplier\")\n",
    "#supp_id, supp_name, supp_city, supp_phone"
   ]
  },
  {
   "cell_type": "code",
   "execution_count": 49,
   "id": "13429fcb",
   "metadata": {},
   "outputs": [
    {
     "name": "stdout",
     "output_type": "stream",
     "text": [
      "select * from customer\n",
      "[(1, 'AAKASH', '9999999999', 'DELHI', 'M'), (2, 'AMAN', '9785463215', 'NOIDA', 'M'), (3, 'NEHA', '9999999998', 'MUMBAI', 'F'), (4, 'MEGHA', '9994562399', 'KOLKATA', 'F'), (5, 'PULKIT', '7895999999', 'LUCKNOW', 'M')]\n",
      "   0       1           2        3  4\n",
      "0  1  AAKASH  9999999999    DELHI  M\n",
      "1  2    AMAN  9785463215    NOIDA  M\n",
      "2  3    NEHA  9999999998   MUMBAI  F\n",
      "3  4   MEGHA  9994562399  KOLKATA  F\n",
      "4  5  PULKIT  7895999999  LUCKNOW  M\n"
     ]
    }
   ],
   "source": [
    "select_records(\"customer\")\n",
    "#CUS_ID, CUS_NAME, CUS_PHONE, CUS_CITY, CUS_GENDER"
   ]
  },
  {
   "cell_type": "code",
   "execution_count": 50,
   "id": "5b2ffa68",
   "metadata": {},
   "outputs": [
    {
     "name": "stdout",
     "output_type": "stream",
     "text": [
      "select * from category\n",
      "[(1, 'BOOKS'), (2, 'GAMES'), (3, 'GROCERIES'), (4, 'ELECTRONICS'), (5, 'CLOTHES')]\n",
      "   0            1\n",
      "0  1        BOOKS\n",
      "1  2        GAMES\n",
      "2  3    GROCERIES\n",
      "3  4  ELECTRONICS\n",
      "4  5      CLOTHES\n"
     ]
    }
   ],
   "source": [
    "select_records(\"category\")\n",
    "#CAT_ID,CAT_NAME"
   ]
  },
  {
   "cell_type": "code",
   "execution_count": 51,
   "id": "73b3b587",
   "metadata": {},
   "outputs": [
    {
     "name": "stdout",
     "output_type": "stream",
     "text": [
      "select * from product\n",
      "[(1, 'GTA V', 'DFJDJFDJFDJFDJFJF', 2), (2, 'TSHIRT', 'DFDFJDFJDKFD', 5), (3, 'ROG LAPTOP', 'DFNTTNTNTERND', 4), (4, 'OATS', 'REURENTBTOTH', 3), (5, 'HARRY POTTER', 'NBEMCTHTJTH', 1)]\n",
      "   0             1                  2  3\n",
      "0  1         GTA V  DFJDJFDJFDJFDJFJF  2\n",
      "1  2        TSHIRT       DFDFJDFJDKFD  5\n",
      "2  3    ROG LAPTOP      DFNTTNTNTERND  4\n",
      "3  4          OATS       REURENTBTOTH  3\n",
      "4  5  HARRY POTTER        NBEMCTHTJTH  1\n"
     ]
    }
   ],
   "source": [
    "select_records(\"product\")\n",
    "#PRO_ID,PRO_NAME,PRO_DESC,CAT_ID"
   ]
  },
  {
   "cell_type": "code",
   "execution_count": 52,
   "id": "cceb3792",
   "metadata": {},
   "outputs": [
    {
     "name": "stdout",
     "output_type": "stream",
     "text": [
      "select * from product_details\n",
      "[(1, 1, 2, 1500), (2, 3, 5, 30000), (3, 5, 1, 3000), (4, 2, 3, 2500), (5, 4, 1, 1000)]\n",
      "   0  1  2      3\n",
      "0  1  1  2   1500\n",
      "1  2  3  5  30000\n",
      "2  3  5  1   3000\n",
      "3  4  2  3   2500\n",
      "4  5  4  1   1000\n"
     ]
    }
   ],
   "source": [
    "select_records(\"product_details\")\n",
    "#PROD_ID,PRO_ID,SUPP_ID,PROD_PRICE"
   ]
  },
  {
   "cell_type": "code",
   "execution_count": 56,
   "id": "bda18baa",
   "metadata": {},
   "outputs": [
    {
     "name": "stdout",
     "output_type": "stream",
     "text": [
      "select * from e_commerce.order\n",
      "[(20, 1500, datetime.date(2021, 10, 12), 3, 5), (25, 30500, datetime.date(2021, 9, 16), 5, 2), (26, 2000, datetime.date(2021, 10, 5), 1, 1), (30, 3500, datetime.date(2021, 8, 16), 4, 3), (50, 2000, datetime.date(2021, 10, 6), 2, 1)]\n",
      "    0      1           2  3  4\n",
      "0  20   1500  2021-10-12  3  5\n",
      "1  25  30500  2021-09-16  5  2\n",
      "2  26   2000  2021-10-05  1  1\n",
      "3  30   3500  2021-08-16  4  3\n",
      "4  50   2000  2021-10-06  2  1\n"
     ]
    }
   ],
   "source": [
    "select_records(\"e_commerce.order\")\n",
    "#ORD_ID,ORD_AMOUNT,ORD_DATE,CUST_ID,PROD_ID"
   ]
  },
  {
   "cell_type": "code",
   "execution_count": 57,
   "id": "9867c590",
   "metadata": {},
   "outputs": [
    {
     "name": "stdout",
     "output_type": "stream",
     "text": [
      "select * from rating\n",
      "[(1, 2, 2, 4), (2, 3, 4, 3), (3, 5, 1, 5), (4, 1, 3, 2), (5, 4, 5, 4)]\n",
      "   0  1  2  3\n",
      "0  1  2  2  4\n",
      "1  2  3  4  3\n",
      "2  3  5  1  5\n",
      "3  4  1  3  2\n",
      "4  5  4  5  4\n"
     ]
    }
   ],
   "source": [
    "select_records(\"rating\")\n",
    "#RAT_ID, CUS_ID, SUPP_ID, RAT_RATSTARS"
   ]
  },
  {
   "cell_type": "markdown",
   "id": "b59361c3",
   "metadata": {
    "id": "b59361c3"
   },
   "source": [
    "### Q3) Display the number of the customer group by their genders who have placed any order of amount greater than or equal to Rs.3000."
   ]
  },
  {
   "cell_type": "code",
   "execution_count": 117,
   "id": "fcafaf3c",
   "metadata": {
    "id": "fcafaf3c"
   },
   "outputs": [
    {
     "data": {
      "text/html": [
       "<div>\n",
       "<style scoped>\n",
       "    .dataframe tbody tr th:only-of-type {\n",
       "        vertical-align: middle;\n",
       "    }\n",
       "\n",
       "    .dataframe tbody tr th {\n",
       "        vertical-align: top;\n",
       "    }\n",
       "\n",
       "    .dataframe thead th {\n",
       "        text-align: right;\n",
       "    }\n",
       "</style>\n",
       "<table border=\"1\" class=\"dataframe\">\n",
       "  <thead>\n",
       "    <tr style=\"text-align: right;\">\n",
       "      <th></th>\n",
       "      <th>Gender</th>\n",
       "      <th>Count</th>\n",
       "    </tr>\n",
       "  </thead>\n",
       "  <tbody>\n",
       "    <tr>\n",
       "      <th>0</th>\n",
       "      <td>M</td>\n",
       "      <td>1</td>\n",
       "    </tr>\n",
       "    <tr>\n",
       "      <th>1</th>\n",
       "      <td>F</td>\n",
       "      <td>1</td>\n",
       "    </tr>\n",
       "  </tbody>\n",
       "</table>\n",
       "</div>"
      ],
      "text/plain": [
       "  Gender  Count\n",
       "0      M      1\n",
       "1      F      1"
      ]
     },
     "execution_count": 117,
     "metadata": {},
     "output_type": "execute_result"
    }
   ],
   "source": [
    "#Q3) Display the number of the customer group by their genders who have placed any \n",
    "#order of amount greater than or equal to Rs.3000.\n",
    "\n",
    "#Ans3.\n",
    "qry=\"\"\"\n",
    "    select a.cus_gender, count(*) from\n",
    "    (select c.cus_gender,o.ord_amount,o.cust_id from customer as c \n",
    "    inner join e_commerce.order as o on o.cust_id = c.cus_id where o.ord_amount >= 3000) \n",
    "    as a group by a.cus_gender\n",
    "\"\"\"\n",
    "\n",
    "cursorObject.execute(qry)\n",
    "output=cursorObject.fetchall()\n",
    "\n",
    "output_df=pd.DataFrame(output,columns=['Gender','Count'])\n",
    "output_df"
   ]
  },
  {
   "cell_type": "markdown",
   "id": "e49e04f5",
   "metadata": {
    "id": "e49e04f5"
   },
   "source": [
    "### Q4) Display all the order along with product name ordered by a customer having Customer_Id=2;"
   ]
  },
  {
   "cell_type": "code",
   "execution_count": 110,
   "id": "9dcb7883",
   "metadata": {
    "id": "9dcb7883"
   },
   "outputs": [
    {
     "data": {
      "text/html": [
       "<div>\n",
       "<style scoped>\n",
       "    .dataframe tbody tr th:only-of-type {\n",
       "        vertical-align: middle;\n",
       "    }\n",
       "\n",
       "    .dataframe tbody tr th {\n",
       "        vertical-align: top;\n",
       "    }\n",
       "\n",
       "    .dataframe thead th {\n",
       "        text-align: right;\n",
       "    }\n",
       "</style>\n",
       "<table border=\"1\" class=\"dataframe\">\n",
       "  <thead>\n",
       "    <tr style=\"text-align: right;\">\n",
       "      <th></th>\n",
       "      <th>Order Id</th>\n",
       "      <th>Order Amt</th>\n",
       "      <th>Order Date</th>\n",
       "      <th>Customer Id</th>\n",
       "      <th>Product Id</th>\n",
       "      <th>Product Name</th>\n",
       "    </tr>\n",
       "  </thead>\n",
       "  <tbody>\n",
       "    <tr>\n",
       "      <th>0</th>\n",
       "      <td>50</td>\n",
       "      <td>2000</td>\n",
       "      <td>2021-10-06</td>\n",
       "      <td>2</td>\n",
       "      <td>1</td>\n",
       "      <td>GTA V</td>\n",
       "    </tr>\n",
       "  </tbody>\n",
       "</table>\n",
       "</div>"
      ],
      "text/plain": [
       "   Order Id  Order Amt  Order Date  Customer Id  Product Id Product Name\n",
       "0        50       2000  2021-10-06            2           1        GTA V"
      ]
     },
     "execution_count": 110,
     "metadata": {},
     "output_type": "execute_result"
    }
   ],
   "source": [
    "#Ans.4\n",
    "qry=\"\"\"\n",
    "    select o.ord_id,o.ord_amount, o.ord_date, o.cust_id, o.prod_id, p.pro_name from e_commerce.order\n",
    "    as o inner join product as p on p.pro_id = o.prod_id where o.cust_id = 2\n",
    "\"\"\"\n",
    "\n",
    "cursorObject.execute(qry)\n",
    "output=cursorObject.fetchall()\n",
    "\n",
    "output_df=pd.DataFrame(output,columns=['Order Id','Order Amt','Order Date','Customer Id','Product Id','Product Name'])\n",
    "output_df"
   ]
  },
  {
   "cell_type": "markdown",
   "id": "3a33398e",
   "metadata": {
    "id": "3a33398e"
   },
   "source": [
    "### Q5) Display the Supplier details who can supply more than one product."
   ]
  },
  {
   "cell_type": "code",
   "execution_count": 109,
   "id": "e933b979",
   "metadata": {
    "id": "e933b979"
   },
   "outputs": [
    {
     "data": {
      "text/html": [
       "<div>\n",
       "<style scoped>\n",
       "    .dataframe tbody tr th:only-of-type {\n",
       "        vertical-align: middle;\n",
       "    }\n",
       "\n",
       "    .dataframe tbody tr th {\n",
       "        vertical-align: top;\n",
       "    }\n",
       "\n",
       "    .dataframe thead th {\n",
       "        text-align: right;\n",
       "    }\n",
       "</style>\n",
       "<table border=\"1\" class=\"dataframe\">\n",
       "  <thead>\n",
       "    <tr style=\"text-align: right;\">\n",
       "      <th></th>\n",
       "      <th>Supplier Id</th>\n",
       "      <th>Supplier Name</th>\n",
       "      <th>City</th>\n",
       "      <th>Phone Number</th>\n",
       "    </tr>\n",
       "  </thead>\n",
       "  <tbody>\n",
       "    <tr>\n",
       "      <th>0</th>\n",
       "      <td>1</td>\n",
       "      <td>Rajesh Retails</td>\n",
       "      <td>Delhi</td>\n",
       "      <td>1234567890</td>\n",
       "    </tr>\n",
       "  </tbody>\n",
       "</table>\n",
       "</div>"
      ],
      "text/plain": [
       "   Supplier Id   Supplier Name   City Phone Number\n",
       "0            1  Rajesh Retails  Delhi   1234567890"
      ]
     },
     "execution_count": 109,
     "metadata": {},
     "output_type": "execute_result"
    }
   ],
   "source": [
    "#Q5) Display the Supplier details who can supply more than one product.\n",
    "\n",
    "#Ans5.\n",
    "qry=\"\"\"\n",
    "    select s.supp_id, s.supp_name, s.supp_city, s.supp_phone from supplier as s\n",
    "    inner join product_details as p on p.supp_id = s.supp_id having count(s.supp_id) > 1\n",
    "\"\"\"\n",
    "\n",
    "cursorObject.execute(qry)\n",
    "output=cursorObject.fetchall()\n",
    "\n",
    "output_df=pd.DataFrame(output,columns=['Supplier Id','Supplier Name','City','Phone Number'])\n",
    "output_df"
   ]
  },
  {
   "cell_type": "markdown",
   "id": "5fd319ef",
   "metadata": {
    "id": "5fd319ef"
   },
   "source": [
    "### Q6) Find the category of the product whose order amount is minimum."
   ]
  },
  {
   "cell_type": "code",
   "execution_count": 87,
   "id": "06f5cb51",
   "metadata": {
    "id": "06f5cb51"
   },
   "outputs": [
    {
     "data": {
      "text/html": [
       "<div>\n",
       "<style scoped>\n",
       "    .dataframe tbody tr th:only-of-type {\n",
       "        vertical-align: middle;\n",
       "    }\n",
       "\n",
       "    .dataframe tbody tr th {\n",
       "        vertical-align: top;\n",
       "    }\n",
       "\n",
       "    .dataframe thead th {\n",
       "        text-align: right;\n",
       "    }\n",
       "</style>\n",
       "<table border=\"1\" class=\"dataframe\">\n",
       "  <thead>\n",
       "    <tr style=\"text-align: right;\">\n",
       "      <th></th>\n",
       "      <th>Category of Min Order</th>\n",
       "    </tr>\n",
       "  </thead>\n",
       "  <tbody>\n",
       "    <tr>\n",
       "      <th>0</th>\n",
       "      <td>BOOKS</td>\n",
       "    </tr>\n",
       "  </tbody>\n",
       "</table>\n",
       "</div>"
      ],
      "text/plain": [
       "  Category of Min Order\n",
       "0                 BOOKS"
      ]
     },
     "execution_count": 87,
     "metadata": {},
     "output_type": "execute_result"
    }
   ],
   "source": [
    "#Ans6.\n",
    "qry=\"\"\"\n",
    "    select min(a.cat_name) from e_commerce.order as o inner join\n",
    "    (select p.pro_id,c.cat_id,c.cat_name from product as p inner join category as c on c.cat_id = p.cat_id)\n",
    "    as a on a.pro_id = o.prod_id\n",
    "\"\"\"\n",
    "cursorObject.execute(qry)\n",
    "output=cursorObject.fetchall()\n",
    "output_df=pd.DataFrame(output,columns=['Category of Min Order'])\n",
    "output_df"
   ]
  },
  {
   "cell_type": "markdown",
   "id": "107102d4",
   "metadata": {
    "id": "107102d4"
   },
   "source": [
    "### Q7) Display the Id and Name of the Product ordered after “2021-10-05”."
   ]
  },
  {
   "cell_type": "code",
   "execution_count": 81,
   "id": "5d3fc7e8",
   "metadata": {
    "id": "5d3fc7e8"
   },
   "outputs": [
    {
     "data": {
      "text/html": [
       "<div>\n",
       "<style scoped>\n",
       "    .dataframe tbody tr th:only-of-type {\n",
       "        vertical-align: middle;\n",
       "    }\n",
       "\n",
       "    .dataframe tbody tr th {\n",
       "        vertical-align: top;\n",
       "    }\n",
       "\n",
       "    .dataframe thead th {\n",
       "        text-align: right;\n",
       "    }\n",
       "</style>\n",
       "<table border=\"1\" class=\"dataframe\">\n",
       "  <thead>\n",
       "    <tr style=\"text-align: right;\">\n",
       "      <th></th>\n",
       "      <th>Product Id</th>\n",
       "      <th>Product Name</th>\n",
       "    </tr>\n",
       "  </thead>\n",
       "  <tbody>\n",
       "    <tr>\n",
       "      <th>0</th>\n",
       "      <td>1</td>\n",
       "      <td>GTA V</td>\n",
       "    </tr>\n",
       "    <tr>\n",
       "      <th>1</th>\n",
       "      <td>5</td>\n",
       "      <td>HARRY POTTER</td>\n",
       "    </tr>\n",
       "  </tbody>\n",
       "</table>\n",
       "</div>"
      ],
      "text/plain": [
       "   Product Id  Product Name\n",
       "0           1         GTA V\n",
       "1           5  HARRY POTTER"
      ]
     },
     "execution_count": 81,
     "metadata": {},
     "output_type": "execute_result"
    }
   ],
   "source": [
    "#Ans7.\n",
    "qry=\"\"\"\n",
    "    select pro_id,pro_name from product where pro_id in\n",
    "    (select prod_id from e_commerce.order where ord_date > \"2021-10-05\") \n",
    "\"\"\"\n",
    "\n",
    "cursorObject.execute(qry)\n",
    "output=cursorObject.fetchall()\n",
    "\n",
    "output_df=pd.DataFrame(output,columns=['Product Id','Product Name'])\n",
    "output_df"
   ]
  },
  {
   "cell_type": "markdown",
   "id": "bdce7167",
   "metadata": {
    "id": "bdce7167"
   },
   "source": [
    "### Q8) Print the top 3 supplier name and id and rating on the basis of their rating along with the customer name who has given the rating."
   ]
  },
  {
   "cell_type": "code",
   "execution_count": 104,
   "id": "fa0cbe44",
   "metadata": {
    "id": "fa0cbe44"
   },
   "outputs": [
    {
     "data": {
      "text/html": [
       "<div>\n",
       "<style scoped>\n",
       "    .dataframe tbody tr th:only-of-type {\n",
       "        vertical-align: middle;\n",
       "    }\n",
       "\n",
       "    .dataframe tbody tr th {\n",
       "        vertical-align: top;\n",
       "    }\n",
       "\n",
       "    .dataframe thead th {\n",
       "        text-align: right;\n",
       "    }\n",
       "</style>\n",
       "<table border=\"1\" class=\"dataframe\">\n",
       "  <thead>\n",
       "    <tr style=\"text-align: right;\">\n",
       "      <th></th>\n",
       "      <th>Supplier Name</th>\n",
       "      <th>Supplier Id</th>\n",
       "      <th>Rating</th>\n",
       "      <th>Rating By Customer</th>\n",
       "    </tr>\n",
       "  </thead>\n",
       "  <tbody>\n",
       "    <tr>\n",
       "      <th>0</th>\n",
       "      <td>Rajesh Retails</td>\n",
       "      <td>1</td>\n",
       "      <td>5</td>\n",
       "      <td>PULKIT</td>\n",
       "    </tr>\n",
       "    <tr>\n",
       "      <th>1</th>\n",
       "      <td>Appario Ltd.</td>\n",
       "      <td>2</td>\n",
       "      <td>4</td>\n",
       "      <td>AMAN</td>\n",
       "    </tr>\n",
       "    <tr>\n",
       "      <th>2</th>\n",
       "      <td>Mittal Ltd.</td>\n",
       "      <td>5</td>\n",
       "      <td>4</td>\n",
       "      <td>MEGHA</td>\n",
       "    </tr>\n",
       "  </tbody>\n",
       "</table>\n",
       "</div>"
      ],
      "text/plain": [
       "    Supplier Name  Supplier Id  Rating Rating By Customer\n",
       "0  Rajesh Retails            1       5             PULKIT\n",
       "1    Appario Ltd.            2       4               AMAN\n",
       "2     Mittal Ltd.            5       4              MEGHA"
      ]
     },
     "execution_count": 104,
     "metadata": {},
     "output_type": "execute_result"
    }
   ],
   "source": [
    "#Ans8.\n",
    "qry=\"\"\"\n",
    "    select s.supp_name,r.supp_id,r.rat_ratstars,c.cus_name from rating as r \n",
    "    inner join customer as c on c.cus_id = r.cus_id \n",
    "    inner join supplier as s on s.supp_id = r.supp_id \n",
    "    order by r.rat_ratstars desc limit 3\n",
    "\"\"\"\n",
    "\n",
    "cursorObject.execute(qry)\n",
    "output=cursorObject.fetchall()\n",
    "\n",
    "output_df=pd.DataFrame(output,columns=['Supplier Name','Supplier Id','Rating','Rating By Customer'])\n",
    "output_df"
   ]
  },
  {
   "cell_type": "markdown",
   "id": "346ec2a1",
   "metadata": {
    "id": "346ec2a1"
   },
   "source": [
    "### Q9) Display customer name and gender whose names start or end with character 'A'."
   ]
  },
  {
   "cell_type": "code",
   "execution_count": 76,
   "id": "e571b5fd",
   "metadata": {
    "id": "e571b5fd"
   },
   "outputs": [
    {
     "data": {
      "text/html": [
       "<div>\n",
       "<style scoped>\n",
       "    .dataframe tbody tr th:only-of-type {\n",
       "        vertical-align: middle;\n",
       "    }\n",
       "\n",
       "    .dataframe tbody tr th {\n",
       "        vertical-align: top;\n",
       "    }\n",
       "\n",
       "    .dataframe thead th {\n",
       "        text-align: right;\n",
       "    }\n",
       "</style>\n",
       "<table border=\"1\" class=\"dataframe\">\n",
       "  <thead>\n",
       "    <tr style=\"text-align: right;\">\n",
       "      <th></th>\n",
       "      <th>Customer Name</th>\n",
       "      <th>Customer Gender</th>\n",
       "    </tr>\n",
       "  </thead>\n",
       "  <tbody>\n",
       "    <tr>\n",
       "      <th>0</th>\n",
       "      <td>AAKASH</td>\n",
       "      <td>M</td>\n",
       "    </tr>\n",
       "    <tr>\n",
       "      <th>1</th>\n",
       "      <td>AMAN</td>\n",
       "      <td>M</td>\n",
       "    </tr>\n",
       "    <tr>\n",
       "      <th>2</th>\n",
       "      <td>NEHA</td>\n",
       "      <td>F</td>\n",
       "    </tr>\n",
       "    <tr>\n",
       "      <th>3</th>\n",
       "      <td>MEGHA</td>\n",
       "      <td>F</td>\n",
       "    </tr>\n",
       "  </tbody>\n",
       "</table>\n",
       "</div>"
      ],
      "text/plain": [
       "  Customer Name Customer Gender\n",
       "0        AAKASH               M\n",
       "1          AMAN               M\n",
       "2          NEHA               F\n",
       "3         MEGHA               F"
      ]
     },
     "execution_count": 76,
     "metadata": {},
     "output_type": "execute_result"
    }
   ],
   "source": [
    "#Ans9.\n",
    "qry=\"\"\"\n",
    "    select cus_name, cus_gender from customer where cus_name like 'a%' or cus_name like '%a'\n",
    "\"\"\"\n",
    "\n",
    "cursorObject.execute(qry)\n",
    "output=cursorObject.fetchall()\n",
    "\n",
    "output_df=pd.DataFrame(output,columns=['Customer Name','Customer Gender'])\n",
    "output_df"
   ]
  },
  {
   "cell_type": "markdown",
   "id": "d0b01f77",
   "metadata": {
    "id": "d0b01f77"
   },
   "source": [
    "### Q10) Display the total order amount of the male customers."
   ]
  },
  {
   "cell_type": "code",
   "execution_count": 73,
   "id": "c3fa76e3",
   "metadata": {
    "id": "c3fa76e3"
   },
   "outputs": [
    {
     "data": {
      "text/html": [
       "<div>\n",
       "<style scoped>\n",
       "    .dataframe tbody tr th:only-of-type {\n",
       "        vertical-align: middle;\n",
       "    }\n",
       "\n",
       "    .dataframe tbody tr th {\n",
       "        vertical-align: top;\n",
       "    }\n",
       "\n",
       "    .dataframe thead th {\n",
       "        text-align: right;\n",
       "    }\n",
       "</style>\n",
       "<table border=\"1\" class=\"dataframe\">\n",
       "  <thead>\n",
       "    <tr style=\"text-align: right;\">\n",
       "      <th></th>\n",
       "      <th>TOT_ORD_AMT</th>\n",
       "    </tr>\n",
       "  </thead>\n",
       "  <tbody>\n",
       "    <tr>\n",
       "      <th>0</th>\n",
       "      <td>34500</td>\n",
       "    </tr>\n",
       "  </tbody>\n",
       "</table>\n",
       "</div>"
      ],
      "text/plain": [
       "  TOT_ORD_AMT\n",
       "0       34500"
      ]
     },
     "execution_count": 73,
     "metadata": {},
     "output_type": "execute_result"
    }
   ],
   "source": [
    "#Ans10.\n",
    "qry=\"\"\"\n",
    "    select sum(o.ord_amount) from e_commerce.order as o inner join  \n",
    "    (select cus_id from customer where cus_gender = 'M') as c on c.cus_id = o.cust_id\n",
    "\"\"\"\n",
    "\n",
    "cursorObject.execute(qry)\n",
    "output=cursorObject.fetchall()\n",
    "\n",
    "output_df=pd.DataFrame(output,columns=['TOT_ORD_AMT'])\n",
    "output_df"
   ]
  },
  {
   "cell_type": "markdown",
   "id": "bcfdde06",
   "metadata": {
    "id": "ff8a9971"
   },
   "source": [
    "### Q11) Display all the Customers left outer join with  the orders"
   ]
  },
  {
   "cell_type": "code",
   "execution_count": 62,
   "id": "a340c6d6",
   "metadata": {
    "id": "a340c6d6"
   },
   "outputs": [
    {
     "data": {
      "text/html": [
       "<div>\n",
       "<style scoped>\n",
       "    .dataframe tbody tr th:only-of-type {\n",
       "        vertical-align: middle;\n",
       "    }\n",
       "\n",
       "    .dataframe tbody tr th {\n",
       "        vertical-align: top;\n",
       "    }\n",
       "\n",
       "    .dataframe thead th {\n",
       "        text-align: right;\n",
       "    }\n",
       "</style>\n",
       "<table border=\"1\" class=\"dataframe\">\n",
       "  <thead>\n",
       "    <tr style=\"text-align: right;\">\n",
       "      <th></th>\n",
       "      <th>CUS_ID</th>\n",
       "      <th>CUS_NAME</th>\n",
       "      <th>CUS_PHONE</th>\n",
       "      <th>CUS_CITY</th>\n",
       "      <th>CUS_GENDER</th>\n",
       "      <th>ORD_ID</th>\n",
       "      <th>ORD_AMOUNT</th>\n",
       "      <th>ORD_DATE</th>\n",
       "      <th>CUST_ID</th>\n",
       "      <th>PROD_ID</th>\n",
       "    </tr>\n",
       "  </thead>\n",
       "  <tbody>\n",
       "    <tr>\n",
       "      <th>0</th>\n",
       "      <td>1</td>\n",
       "      <td>AAKASH</td>\n",
       "      <td>9999999999</td>\n",
       "      <td>DELHI</td>\n",
       "      <td>M</td>\n",
       "      <td>26</td>\n",
       "      <td>2000</td>\n",
       "      <td>2021-10-05</td>\n",
       "      <td>1</td>\n",
       "      <td>1</td>\n",
       "    </tr>\n",
       "    <tr>\n",
       "      <th>1</th>\n",
       "      <td>2</td>\n",
       "      <td>AMAN</td>\n",
       "      <td>9785463215</td>\n",
       "      <td>NOIDA</td>\n",
       "      <td>M</td>\n",
       "      <td>50</td>\n",
       "      <td>2000</td>\n",
       "      <td>2021-10-06</td>\n",
       "      <td>2</td>\n",
       "      <td>1</td>\n",
       "    </tr>\n",
       "    <tr>\n",
       "      <th>2</th>\n",
       "      <td>3</td>\n",
       "      <td>NEHA</td>\n",
       "      <td>9999999998</td>\n",
       "      <td>MUMBAI</td>\n",
       "      <td>F</td>\n",
       "      <td>20</td>\n",
       "      <td>1500</td>\n",
       "      <td>2021-10-12</td>\n",
       "      <td>3</td>\n",
       "      <td>5</td>\n",
       "    </tr>\n",
       "    <tr>\n",
       "      <th>3</th>\n",
       "      <td>4</td>\n",
       "      <td>MEGHA</td>\n",
       "      <td>9994562399</td>\n",
       "      <td>KOLKATA</td>\n",
       "      <td>F</td>\n",
       "      <td>30</td>\n",
       "      <td>3500</td>\n",
       "      <td>2021-08-16</td>\n",
       "      <td>4</td>\n",
       "      <td>3</td>\n",
       "    </tr>\n",
       "    <tr>\n",
       "      <th>4</th>\n",
       "      <td>5</td>\n",
       "      <td>PULKIT</td>\n",
       "      <td>7895999999</td>\n",
       "      <td>LUCKNOW</td>\n",
       "      <td>M</td>\n",
       "      <td>25</td>\n",
       "      <td>30500</td>\n",
       "      <td>2021-09-16</td>\n",
       "      <td>5</td>\n",
       "      <td>2</td>\n",
       "    </tr>\n",
       "  </tbody>\n",
       "</table>\n",
       "</div>"
      ],
      "text/plain": [
       "   CUS_ID CUS_NAME   CUS_PHONE CUS_CITY CUS_GENDER  ORD_ID  ORD_AMOUNT  \\\n",
       "0       1   AAKASH  9999999999    DELHI          M      26        2000   \n",
       "1       2     AMAN  9785463215    NOIDA          M      50        2000   \n",
       "2       3     NEHA  9999999998   MUMBAI          F      20        1500   \n",
       "3       4    MEGHA  9994562399  KOLKATA          F      30        3500   \n",
       "4       5   PULKIT  7895999999  LUCKNOW          M      25       30500   \n",
       "\n",
       "     ORD_DATE  CUST_ID  PROD_ID  \n",
       "0  2021-10-05        1        1  \n",
       "1  2021-10-06        2        1  \n",
       "2  2021-10-12        3        5  \n",
       "3  2021-08-16        4        3  \n",
       "4  2021-09-16        5        2  "
      ]
     },
     "execution_count": 62,
     "metadata": {},
     "output_type": "execute_result"
    }
   ],
   "source": [
    "#Ans11.\n",
    "qry=\"\"\"\n",
    "    select * from customer as c left outer join e_commerce.Order as O on O.cust_id = c.cus_id \n",
    "\"\"\"\n",
    "\n",
    "cursorObject.execute(qry)\n",
    "output = cursorObject.fetchall()\n",
    "\n",
    "output_df=pd.DataFrame(output,columns=['CUS_ID','CUS_NAME','CUS_PHONE','CUS_CITY','CUS_GENDER','ORD_ID','ORD_AMOUNT','ORD_DATE','CUST_ID','PROD_ID']) \n",
    "output_df"
   ]
  },
  {
   "cell_type": "code",
   "execution_count": 118,
   "id": "b87f2196",
   "metadata": {},
   "outputs": [],
   "source": [
    "connection.close()\n",
    "#Completed"
   ]
  },
  {
   "cell_type": "markdown",
   "id": "0a72afe3",
   "metadata": {
    "id": "0a72afe3"
   },
   "source": [
    "**NOTE:** Always close an open connection once you are done with the database operations"
   ]
  },
  {
   "cell_type": "markdown",
   "id": "8c88f479",
   "metadata": {
    "id": "8c88f479"
   },
   "source": [
    "## Happy Learning:)"
   ]
  }
 ],
 "metadata": {
  "colab": {
   "name": "Lab Session  -  E-Commerce.ipynb",
   "provenance": []
  },
  "kernelspec": {
   "display_name": "Python 3 (ipykernel)",
   "language": "python",
   "name": "python3"
  },
  "language_info": {
   "codemirror_mode": {
    "name": "ipython",
    "version": 3
   },
   "file_extension": ".py",
   "mimetype": "text/x-python",
   "name": "python",
   "nbconvert_exporter": "python",
   "pygments_lexer": "ipython3",
   "version": "3.9.13"
  }
 },
 "nbformat": 4,
 "nbformat_minor": 5
}
